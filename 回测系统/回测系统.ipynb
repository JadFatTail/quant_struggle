{
 "cells": [
  {
   "cell_type": "code",
   "execution_count": 129,
   "metadata": {},
   "outputs": [],
   "source": [
    "import pandas as pd\n",
    "import datetime as datetime\n",
    "# 导入因子函数库\n",
    "from jqfactor import get_factor_values\n",
    "# 导入基本财务信息函数库\n",
    "from jqdata import *\n",
    "import warnings\n",
    "import math\n",
    "import matplotlib.pyplot as plt\n",
    "plt.rcParams['font.sans-serif']=['SimHei']\n",
    "sns.set_style('darkgrid')\n",
    "warnings.filterwarnings(\"ignore\")\n",
    "logging.basicConfig(level=logging.INFO, format='%(asctime)s - %(name)s - %(levelname)s - %(message)s')\n",
    "logger = logging.getLogger('stragy_momentum')"
   ]
  },
  {
   "cell_type": "code",
   "execution_count": 130,
   "metadata": {},
   "outputs": [],
   "source": [
    "class private_tools():\n",
    "    def compare_serice(self, serice_1, serice_2, flag):\n",
    "        if flag == 'max':\n",
    "            compare_flag = (serice_1 > serice_2)\n",
    "            serice_2[compare_flag] = serice_1[compare_flag]\n",
    "            return serice_2\n",
    "        if flag == 'min':\n",
    "            compare_flag = (serice_1 < serice_2)\n",
    "            serice_2[compare_flag] = serice_1[compare_flag]\n",
    "            return serice_2\n",
    "tools = private_tools()"
   ]
  },
  {
   "cell_type": "code",
   "execution_count": 167,
   "metadata": {},
   "outputs": [],
   "source": [
    "class stragy_turtleTrade():\n",
    "    def __init__(self, tradeSys = None):\n",
    "\n",
    "        self.turtle = turtleTrading(N_step = 20)\n",
    "        \n",
    "    def initialize(self, context):\n",
    "        #setCommission(context)\n",
    "        self.set_params()\n",
    "        \n",
    "    def set_params(self):\n",
    "       \n",
    "        tar_stock = '000725.XSHE'\n",
    "        self.unit = None #仓位粒度\n",
    "        self.unit_limit = 4 #仓位控制限制\n",
    "        self.break_price = None #买入线\n",
    "    \n",
    "    def set_commission(self):\n",
    "        dt = datetime.datetime.strptime(context.current_dt, '%Y-%m-%d')\n",
    "        if dt>datetime.datetime(2013,1, 1):\n",
    "            set_commission(PerTrade(buy_cost=0.0003, sell_cost=0.0013, min_cost=5)) \n",
    "\n",
    "        elif dt>datetime.datetime(2011,1, 1):\n",
    "            set_commission(PerTrade(buy_cost=0.001, sell_cost=0.002, min_cost=5))\n",
    "\n",
    "        elif dt>datetime.datetime(2009,1, 1):\n",
    "            set_commission(PerTrade(buy_cost=0.002, sell_cost=0.003, min_cost=5))\n",
    "\n",
    "        else:\n",
    "            set_commission(PerTrade(buy_cost=0.003, sell_cost=0.004, min_cost=5))\n",
    "            \n",
    "    def before_trading(self):\n",
    "        #set_slippage(FixedSlippage(0)) #设置滑点\n",
    "        #setCommission() #设置手续费\n",
    "        print('test:',self.context.current_dt)\n",
    "        current_date = datetime.datetime.strptime(self.context.current_dt, '%Y-%m-%d')\n",
    "        history_data = get_price(self.tar_stock, end_date = current_date, frequency='daily', fields=('high','low','close'), skip_paused=True, fq='pre', \n",
    "                      count = self.N_step, panel=False)\n",
    "        self.turtle.get_volatility_N(history_data) #计算加权移动波动\n",
    "        self.turtle.get_tqa_line(history_data) #计算唐奇安通道上、中、下轨\n",
    "        \n",
    "    def handle(self):\n",
    "        context = self.context\n",
    "        account_value = context.portfolio.portfolio_value #获取账户市值\n",
    "        available_cash = context.portfolio.cash #账户现金余额\n",
    "        volatility = self.turtle.volatility[-1] * 1\n",
    "        self.unit = (value * 0.01) / volatility #当前波动下，最大单次损失1%的购买量\n",
    "\n",
    "        #current_dt = context.current_dt\n",
    "        #price_data = get_price(tar_stock, end_date = current_dt, frequency = '1m', count=1)    \n",
    "        price_data = get_price(tar_stock, end_date='2020-06-01', frequency = '1m', count=1)\n",
    "        if context.portfolio.positions == 0:\n",
    "            market_in(context, price_data['close']) #开仓买入\n",
    "        else:\n",
    "            stop_loss(context, price_data['close']) #止损\n",
    "            stop_gain(context, price_data['close']) #止赢\n",
    "            market_add(context, price_data['close']) #加仓\n",
    "            market_out(context, price_data['close']) #出局\n",
    "    \n",
    "    '''利用唐奇安通道，上传上轨突破视为开仓信号'''\n",
    "    def market_in(self, context, curent_price):    \n",
    "        # 当前价格突破唐奇安通道上轨\n",
    "        if current_price > self.turtle.tqa_high[-1]:\n",
    "            available_cash = context.portfolio.available_cash        \n",
    "            tobuy_shares = available_cash / current_price #计算当前可买量\n",
    "            if tobuy_shares >= self.unit and context.portfolio.positions[tar_stock]< int(self.unit_limit * self.unit):\n",
    "                log.info('开仓买入股票数量：{}'.format(self.unit))\n",
    "                order_info = order(tar_stock, self.unit)\n",
    "                if order_info:\n",
    "                    if str(order_info.status) == 'S':\n",
    "                        log.info('下单成功！！')\n",
    "                        break_price = current_price\n",
    "                        \n",
    "    '''再买入价基础上，股价突破break_price + 0.5*volatility，视为有效突破'''\n",
    "    def market_add(self, context, curent_price):    \n",
    "         if current_price >= (break_price + 0.5 * self.turtle.volatility[-1]):\n",
    "            cash = context.portfolio.available_cash\n",
    "            tobuy_shares = cash / current_price\n",
    "            if tobuy_shares >= unit and context.portfolio.positions[tar_stock] < (self.unit_limit * self.unit):            \n",
    "                order_info = order(tar_stock, self.unit)\n",
    "                if order_info:\n",
    "                    if str(order_info.status) == 'S':\n",
    "                        log.info('下单成功！！')\n",
    "                        break_price = current_price\n",
    "    '''股价跌破唐奇安中轨，视为打开下降通道，需要全部卖出'''\n",
    "    def market_out(self, context, curent_price):    \n",
    "         if current_price >= self.turtle.tqa_middle[-1]:\n",
    "            log.info('跌破中轨，离场')\n",
    "            order_info = self.tradeSys.order_target(tar_stock, 0)\n",
    "            if order_info:\n",
    "                if str(order_info.status) == 'S':\n",
    "                    log.info('清仓成功！！')\n",
    "                    \n",
    "    '''股价回调至最后买入价下方两个单位的波动，则清仓止损'''                      \n",
    "    def stop_loss(context,current_price):\n",
    "        if current_price < (break_price - 2 * self.turtle.volatility[-1]):\n",
    "            order_info = self.tradeSys.order_target(g.security, 0)\n",
    "            if order_info:\n",
    "                if str(order_info.status) == 'S':\n",
    "                    log.info('清仓成功成功！！')"
   ]
  },
  {
   "cell_type": "code",
   "execution_count": 168,
   "metadata": {},
   "outputs": [],
   "source": [
    "class turtleTrading():\n",
    "    \n",
    "    def __init__(self, N_step = 20):\n",
    "        self.tqa_high = []\n",
    "        self.tqa_middle = []\n",
    "        self.tqa_low = []\n",
    "        self.N_compute = []\n",
    "        self.N_step = N_step #默认10\n",
    "        \n",
    "    def compute_volatility_N(data = None):\n",
    "        if not data:\n",
    "            print('未发现待处理数据！')\n",
    "            return None  \n",
    "        hign_close_max = data['high'] - data['low']\n",
    "        high_closepre_max = abs(data['high'] - data['close'].shift(1).fillna(0))#绝对值\n",
    "        low_closepre_max = abs(data['low'] - data['close'].shift(1).fillna(0))#绝对值\n",
    "        middle_state = tools.compare_serice(hign_close_max[1:], high_closepre_max[1:], 'max')\n",
    "        volatility_range = tools.compare_serice(middle_state, low_closepre_max[1:], 'max')\n",
    "        return volatility_range\n",
    "        \n",
    "    def get_volatility_N(data = None):\n",
    "        if not data:\n",
    "            print('未发现待处理数据！')\n",
    "            return None\n",
    "        if len(N_compute) == 0:    \n",
    "            volatility_range = compute_volatility_N(data)\n",
    "            self.N_compute.append(volatility_range) \n",
    "        else:\n",
    "            volatility_range = compute_volatility_N(data)\n",
    "            #N=Rolling((PreN∗19+TrueRange20) / 20)\n",
    "            volatility_range_weight = (N_compute[-1]*(self.N_step-1) + volatility_range*(self.N_step)) / self.N_step\n",
    "            self.N_compute.append(volatility_range_weight.rolling(window = 2,min_periods = 1).mean())#移动平均\n",
    "            \n",
    "    def get_tqa_line(data = None):\n",
    "\n",
    "        if not data:\n",
    "            print('未发现待处理数据！')\n",
    "            return None\n",
    "        self.tqa_high.append(max(data['high']))\n",
    "        self.tqa_low.append(min(data['low']))\n",
    "        self.tqa_middle.append(((max(data['high']) + min(data['low']))/2.0))\n"
   ]
  },
  {
   "cell_type": "code",
   "execution_count": 171,
   "metadata": {},
   "outputs": [],
   "source": [
    "class backTestSimple():\n",
    "    def __init__(self, stragy = None, tradeSys = tradeSystemSimple(), start_date = None, end_date = None, frequency = '1d', \n",
    "                 risk_free_rate = 0.02, benchmark = None, init_cash = None):\n",
    "        self.benchmark = benchmark\n",
    "        self.risk_free_rate = risk_free_rate\n",
    "        self.start_date = start_date\n",
    "        self.end_date = end_date\n",
    "        self.frequency = frequency        \n",
    "        tradeSys.init_cash = init_cash\n",
    "        self.tradeSys = tradeSys\n",
    "        self.stragy_m = stragy\n",
    "        self.index = '000001.XSHG'\n",
    "    \n",
    "    '''回测驱动'''    \n",
    "    def start(self, context):\n",
    "        #获取回测频率\n",
    "        stragy_m = self.stragy_m\n",
    "        df_data = get_price(self.index, start_date = self.start_date, end_date=self.end_date, frequency = self.frequency)\n",
    "        trade_frequency = df_data.index\n",
    "        for trade_delta in trade_frequency:\n",
    "            context.current_dt = trade_delta\n",
    "            print('test1:{}'.format(context))\n",
    "            stragy_m.initialize(context)\n",
    "            stragy_m.before_trading(context)\n",
    "            stragy_m.handle(context)\n",
    "            stragy_m.after_trading(context)\n",
    "        self.estimate()   \n",
    "        self.visualize()\n",
    "        \n",
    "    \n",
    "    '''回测可视化'''\n",
    "    def visualize(self):\n",
    "        df = pd.DataFrame(self.gain_recards, columns=['date', 'total_value', 'nav', 'bench_price'])\n",
    "        df.set_index('date', inplace=True)\n",
    "        df.index = pd.to_datetime(df.index)\n",
    "        df['bench_nav'] = df['bench_price'] / benchmark_datadf['bench_price'][0]\n",
    "        plt.figure(figsize=(12,6))\n",
    "        plt.plot(df.index, df['nav'], color='pink', label='策略收益')\n",
    "        plt.plot(df.index, df['bench_nav'], color='red', label='基准收益')\n",
    "        plt.axhline(0,ls='--')\n",
    "        plt.title('回测收益曲线图')\n",
    "        plt.xlabel('时间（单位：天）')\n",
    "        plt.ylabel('收益')\n",
    "        plt.legend()\n",
    "\n",
    "    \n",
    "    '''策略评估目前产出：最大回撤，夏普比率，胜率，beta，alpha，待补充'''\n",
    "    def estimate(self):\n",
    "        df = pd.DataFrame(self.gain_recards, columns=['date', 'total_value', 'nav', 'bench_price'])\n",
    "        df.set_index('date', inplace=True)\n",
    "        df.index = pd.to_datetime(df.index)\n",
    "        max_down_rate, max_down_start, max_down_end = self.get_max_down(df)\n",
    "        sharp_ratio = self.get_sharp_ratio(df)\n",
    "        win_ratio = self.get_win_ratio(df)\n",
    "        beta = self.get_Beta(df)\n",
    "        alpha = self.get_alpha(df)        \n",
    "    \n",
    "    '''获取最大回撤'''       \n",
    "    def get_max_down(self, df):\n",
    "      \n",
    "        df['max_nav'] = df['nav'].expending().max()\n",
    "        df['down_rate'] = df['nav'] / df['max_nav']\n",
    "        max_down_rate = df['down_rate'].sort_values(['down_rate'], \n",
    "                                ascending = True).iloc[[0],df.columns.get_loc('down_rate')]\n",
    "        min_down_rate = df[df.index < max_down_rate.index[0]].sort_values(['down_rate'], \n",
    "                                ascending = False).iloc[[0],df.columns.get_loc('down_rate')]\n",
    "        min_down = df[df['max_dows_rate'] < max_down].sort_values(['max_dows_rate'], \n",
    "                                ascending = False).iloc[[0],df.columns.get_loc('max_dows_rate')]       \n",
    "        max_down = 1 - max_down_rate.values #最大回撤\n",
    "        max_down_start = min_down.index[0] #最大回撤开始日期\n",
    "        max_down_end = max_down.index[0] #最大回撤结束日期\n",
    "        return max_down, max_down_start, max_down_end\n",
    "        \n",
    "    def get_sharp_ratio(self, df):\n",
    "        '''\n",
    "         夏普率衡量的是风险和收益的平衡\n",
    "         使用过程中，分为两种，一种是事先夏普率，另一种是事后夏普率，\n",
    "         事先夏普率：组合收益率、无风险收益率、组合波动率是预期数据。\n",
    "         事后夏普率：组合收益率、无风险收益率、组合波动率是历史数据。\n",
    "         事后夏普率计算方式有不同的标准，其时间频率是年华夏普比率。\n",
    "         方式一：（日均收益率-无风险收益率）/ 组合标准差   * sqr（252）\n",
    "         方式二：超额收益的日均值 / 组合标准差   * sqr（252）\n",
    "         本方法采用第二种方式\n",
    "        '''\n",
    "        #超额收益\n",
    "        df['excess_income'] = df['nav'].pct_change().fillna(0.0) - df['bench_price'].pct_change().fillna(0.0)\n",
    "        excess_income_mean = df['excess_income'].mean()\n",
    "        excess_income_volatility =  df['excess_income'].std()\n",
    "        return excess_income_mean.div(excess_income_volatility) * np.sqrt(252)\n",
    "    \n",
    "    def get_win_ratio(self, df):\n",
    "        \n",
    "        df['income_rate'] = df['nav'].pct_change().fillna(0)\n",
    "        win_num = df[df['income_rate'] > 0].shape[0]\n",
    "        return win_num / df.shape[0]\n",
    "       \n",
    "    def get_Beta(self, df):\n",
    "        '''\n",
    "        计算Beta值的方式有两种\n",
    "        种类一：公式法，Cov（标的，基准）/ Var（基准）\n",
    "        种类二：线性回归，标的收益 = Rf + beta * （标的收益 - 基准收益）\n",
    "        本方法采用公式法\n",
    "        '''\n",
    "        df['income_rate'] = df['nav'].pct_change().fillna(0.0)\n",
    "        df['bench_rate'] = df['bench_price'].pct_change().fillna(0.0)\n",
    "        return np.cov(df['income_rate'], df['bench_rate']) / np.var(df['bench_rate'])\n",
    "    \n",
    "    def get_alpha(self, df):\n",
    "        beta = self.get_Beta(df)\n",
    "        a_return = self.aunual_return(df)\n",
    "        bench_return = self.aunual_beach_return(df)\n",
    "        return (a_return - self.risk_free_rate - beta(bench_return - self.risk_free_rate))\n",
    "        \n",
    "    def aunual_return(self, df):\n",
    "        stragy_return = df['nav'][-1:]/df['nav'][0] -1\n",
    "        a_return = ((stragy_return + 1) ** (250/df.shape[0]) -1)\n",
    "        return a_return\n",
    "    \n",
    "    def aunual_beach_return(self, df):\n",
    "        stragy_return = df['bench_price'][-1:]/df['bench_price'][0] -1\n",
    "        a_return = ((stragy_return + 1) ** (250/df.shape[0]) -1)\n",
    "        return a_return\n",
    "        \n",
    "             "
   ]
  },
  {
   "cell_type": "code",
   "execution_count": 147,
   "metadata": {},
   "outputs": [],
   "source": [
    "class tradeSystemSimple():\n",
    "    def __init__(self, init_cash = None):\n",
    "        '''创建账户数据结构'''\n",
    "        self.init_cash = init_cash\n",
    "        #账户持仓情况，字典数据类型;可用余额;市值\n",
    "        self.context = {'portfolio':{'positions':{},'avaible_cash':self.init_cash,'total_value':self.init_cash},\n",
    "                  'current_dt':None}\n",
    "        self.context = pd.DataFrame(context)\n",
    "        \n",
    "        '''创建与下单相关数据结构'''\n",
    "        self.order_info = {}\n",
    "        self.trade_recards = []\n",
    "        self.gain_recards = []\n",
    "        \n",
    "    '''按目标股数下单,tar_stock_num为目标持股数据量'''\n",
    "    def order_target(self, stock, tar_stock_num):\n",
    "        order_info = {} #存放下单状态\n",
    "        hold_stock_num = self.context.portfolio.positions[stock]\n",
    "        stock_price = get_price(stock, end_date = self.context['current_dt'], frequency = self.frequency)['close']\n",
    "        if tar_stock_num == 0:    \n",
    "            sail_stock_num = self.context.portfolio.positions[stock]\n",
    "            self.context.portfolio.avaible_cash += self.context.portfolio.positions[stock] * stock_price\n",
    "            self.context.portfolio.positions[stock] = 0\n",
    "            logger.info('清仓成功，卖出股票:{}:股票数量{},股票价格:{}'.format(stock, self.context.portfolio.positions[stock],\n",
    "                                                             stock_price))\n",
    "            self.record_trade(stock, 'S', sail_stock_num)\n",
    "            order_info['status'] = 'S'\n",
    "            return order_info\n",
    "        elif (hold_stock_num > tar_stock_num):\n",
    "            sail_stock_num = math.floor((scalehold_stock_num - tar_stock_num)/100) * 100\n",
    "            self.context.portfolio.positions[stock] -= sail_stock_num\n",
    "            self.context.portfolio.avaible_cash += sail_stock_num * stock_price\n",
    "            logger.info('下单成功，卖出股票:{}:股票数量{},股票价格:{}'.format(stock, sail_stock_num,\n",
    "                                                             stock_price))\n",
    "            self.record_trade(stock, 'S', sail_stock_num)\n",
    "            order_info['status'] = 'S'\n",
    "            return order_info\n",
    "        else:\n",
    "            buy_stock_num = math.floor((tar_stock_num - scalehold_stock_num)/100) * 100\n",
    "            self.context.portfolio.positions[stock] += buy_stock_num\n",
    "            self.context.portfolio.avaible_cash -= buy_stock_num * stock_price\n",
    "            logger.info('下单成功，买入股票:{}:股票数量{},股票价格:{}'.format(stock, buy_stock_num,\n",
    "                                                             stock_price))\n",
    "            self.record_trade(stock, 'B', buy_stock_num)\n",
    "            order_info['status'] = 'S'\n",
    "            return order_info\n",
    "        \n",
    "    def order(self, stock, amount):\n",
    "        order_info = {} #存放下单状态\n",
    "        #获取股票价格\n",
    "        stock_price = get_price(stock, end_date = self.context['current_dt'], frequency = self.frequency)['close']\n",
    "        buy_stock_num = math.floor((amount / stock_price) / 100) * 100\n",
    "        if buy_stock_num > 0:\n",
    "            self.context.portfolio.positions[stock] += buy_stock_num\n",
    "            self.context.portfolio.self.context.portfolio -= buy_stock_num * stock_price\n",
    "            logger.info('下单成功，买入股票:{}:股票数量{},股票价格:{}'.format(stock, buy_stock_num,\n",
    "                                                             stock_price))\n",
    "            self.record_trade(stock, 'B', buy_stock_num)\n",
    "            order_info['status'] = 'S'\n",
    "            return order_info\n",
    "        else:\n",
    "            logger.info('资金不足，下单失败')\n",
    "            order_info['status'] = 'F'\n",
    "            return order_info\n",
    "    \n",
    "    def total_value(self):\n",
    "        self.context.portfolio.total_value =self.context.portfolio.avaible_cash\n",
    "        for stock in self.context.portfolio.positions.keys():\n",
    "            stock_price = get_price(stock, end_date = self.context['current_dt'], frequency = self.frequency)['close']\n",
    "            self.context.portfolio.total_value += self.context.portfolio.positions[stock] + stock_price\n",
    "        return self.context.portfolio.total_value  \n",
    "    \n",
    "    '''当前频率结束，记录每个交易日账户情况'''\n",
    "    def record_trade(self, stock, signal, stock_num):\n",
    "        nav = round((self.total_value() / self.init_cash), 2) # 计算持仓净值\n",
    "        self.trade_records.append((self.context.current_dt, stock, signal, stock_num, self.total_value(), nav))\n",
    "        if((self.context.current_dt.hour == 15) and (context.current_dt.minute == 0)):\n",
    "            nav = round((self.total_value() / self.init_cash), 2) # 计算持仓净值\n",
    "            current_date = datetime.datetime.strptime(self.context.current_dt, '%Y-%m-%d')\n",
    "            bench_price = 0.00\n",
    "            if self.benchmark:\n",
    "                bench_price = get_price(self.benchmark, end_date = current_date)['close']\n",
    "            else:\n",
    "                bench_price = get_price(stock, end_date = current_date)['close']\n",
    "            self.gain_recards.append((current_date, self.total_value(), nav, bench_price))\n",
    "            \n",
    "    '''获取回测过程中交易记录'''\n",
    "    def get_records(self):\n",
    "        df = pd.DataFrame(self.trade_records, columns=['date', 'stock', 'signal', 'total_value', 'nav'])\n",
    "        df.set_index('date', inplace=True)\n",
    "        df.index = pd.to_datetime(df.index)\n",
    "        return df\n",
    "              "
   ]
  },
  {
   "cell_type": "code",
   "execution_count": 172,
   "metadata": {},
   "outputs": [],
   "source": [
    "tradeSys = tradeSystemSimple()\n",
    "stragy = stragy_turtleTrade(tradeSys)\n",
    "backTest = backTestSimple(stragy = stragy, start_date = '2019-01-01', end_date = '2020-01-01',frequency = '1m',  \n",
    "                          init_cash = 1000000)\n"
   ]
  },
  {
   "cell_type": "code",
   "execution_count": 173,
   "metadata": {},
   "outputs": [
    {
     "name": "stdout",
     "output_type": "stream",
     "text": [
      "test1:             portfolio          current_dt\n",
      "avaible_cash       100 2019-01-02 09:31:00\n",
      "positions           {} 2019-01-02 09:31:00\n",
      "total_value        100 2019-01-02 09:31:00\n",
      "test: avaible_cash    None\n",
      "positions       None\n",
      "total_value     None\n",
      "Name: current_dt, dtype: object\n"
     ]
    },
    {
     "ename": "TypeError",
     "evalue": "strptime() argument 1 must be str, not Series",
     "output_type": "error",
     "traceback": [
      "\u001b[0;31m---------------------------------------------------------------------------\u001b[0m",
      "\u001b[0;31mTypeError\u001b[0m                                 Traceback (most recent call last)",
      "\u001b[0;32m<ipython-input-173-b97f0ab02467>\u001b[0m in \u001b[0;36m<module>\u001b[0;34m\u001b[0m\n\u001b[0;32m----> 1\u001b[0;31m \u001b[0mbackTest\u001b[0m\u001b[0;34m.\u001b[0m\u001b[0mstart\u001b[0m\u001b[0;34m(\u001b[0m\u001b[0;34m)\u001b[0m\u001b[0;34m\u001b[0m\u001b[0;34m\u001b[0m\u001b[0m\n\u001b[0m",
      "\u001b[0;32m<ipython-input-171-e9457aee5f7e>\u001b[0m in \u001b[0;36mstart\u001b[0;34m(self)\u001b[0m\n\u001b[1;32m     24\u001b[0m             \u001b[0mprint\u001b[0m\u001b[0;34m(\u001b[0m\u001b[0;34m'test1:{}'\u001b[0m\u001b[0;34m.\u001b[0m\u001b[0mformat\u001b[0m\u001b[0;34m(\u001b[0m\u001b[0mcontext\u001b[0m\u001b[0;34m)\u001b[0m\u001b[0;34m)\u001b[0m\u001b[0;34m\u001b[0m\u001b[0;34m\u001b[0m\u001b[0m\n\u001b[1;32m     25\u001b[0m             \u001b[0mstragy_m\u001b[0m\u001b[0;34m.\u001b[0m\u001b[0minitialize\u001b[0m\u001b[0;34m(\u001b[0m\u001b[0;34m)\u001b[0m\u001b[0;34m\u001b[0m\u001b[0;34m\u001b[0m\u001b[0m\n\u001b[0;32m---> 26\u001b[0;31m             \u001b[0mstragy_m\u001b[0m\u001b[0;34m.\u001b[0m\u001b[0mbefore_trading\u001b[0m\u001b[0;34m(\u001b[0m\u001b[0;34m)\u001b[0m\u001b[0;34m\u001b[0m\u001b[0;34m\u001b[0m\u001b[0m\n\u001b[0m\u001b[1;32m     27\u001b[0m             \u001b[0mstragy_m\u001b[0m\u001b[0;34m.\u001b[0m\u001b[0mhandle\u001b[0m\u001b[0;34m(\u001b[0m\u001b[0;34m)\u001b[0m\u001b[0;34m\u001b[0m\u001b[0;34m\u001b[0m\u001b[0m\n\u001b[1;32m     28\u001b[0m             \u001b[0mstragy_m\u001b[0m\u001b[0;34m.\u001b[0m\u001b[0mafter_trading\u001b[0m\u001b[0;34m(\u001b[0m\u001b[0;34m)\u001b[0m\u001b[0;34m\u001b[0m\u001b[0;34m\u001b[0m\u001b[0m\n",
      "\u001b[0;32m<ipython-input-167-3d53ad64b07e>\u001b[0m in \u001b[0;36mbefore_trading\u001b[0;34m(self)\u001b[0m\n\u001b[1;32m     34\u001b[0m         \u001b[0;31m#setCommission() #设置手续费\u001b[0m\u001b[0;34m\u001b[0m\u001b[0;34m\u001b[0m\u001b[0;34m\u001b[0m\u001b[0m\n\u001b[1;32m     35\u001b[0m         \u001b[0mprint\u001b[0m\u001b[0;34m(\u001b[0m\u001b[0;34m'test:'\u001b[0m\u001b[0;34m,\u001b[0m\u001b[0mself\u001b[0m\u001b[0;34m.\u001b[0m\u001b[0mcontext\u001b[0m\u001b[0;34m.\u001b[0m\u001b[0mcurrent_dt\u001b[0m\u001b[0;34m)\u001b[0m\u001b[0;34m\u001b[0m\u001b[0;34m\u001b[0m\u001b[0m\n\u001b[0;32m---> 36\u001b[0;31m         \u001b[0mcurrent_date\u001b[0m \u001b[0;34m=\u001b[0m \u001b[0mdatetime\u001b[0m\u001b[0;34m.\u001b[0m\u001b[0mdatetime\u001b[0m\u001b[0;34m.\u001b[0m\u001b[0mstrptime\u001b[0m\u001b[0;34m(\u001b[0m\u001b[0mself\u001b[0m\u001b[0;34m.\u001b[0m\u001b[0mcontext\u001b[0m\u001b[0;34m.\u001b[0m\u001b[0mcurrent_dt\u001b[0m\u001b[0;34m,\u001b[0m \u001b[0;34m'%Y-%m-%d'\u001b[0m\u001b[0;34m)\u001b[0m\u001b[0;34m\u001b[0m\u001b[0;34m\u001b[0m\u001b[0m\n\u001b[0m\u001b[1;32m     37\u001b[0m         history_data = get_price(self.tar_stock, end_date = current_date, frequency='daily', fields=('high','low','close'), skip_paused=True, fq='pre', \n\u001b[1;32m     38\u001b[0m                       count = self.N_step, panel=False)\n",
      "\u001b[0;31mTypeError\u001b[0m: strptime() argument 1 must be str, not Series"
     ]
    }
   ],
   "source": [
    "backTest.start()"
   ]
  },
  {
   "cell_type": "code",
   "execution_count": 100,
   "metadata": {},
   "outputs": [
    {
     "name": "stdout",
     "output_type": "stream",
     "text": [
      "2015-01-05 09:32:00\n"
     ]
    },
    {
     "data": {
      "text/html": [
       "<div>\n",
       "<style scoped>\n",
       "    .dataframe tbody tr th:only-of-type {\n",
       "        vertical-align: middle;\n",
       "    }\n",
       "\n",
       "    .dataframe tbody tr th {\n",
       "        vertical-align: top;\n",
       "    }\n",
       "\n",
       "    .dataframe thead th {\n",
       "        text-align: right;\n",
       "    }\n",
       "</style>\n",
       "<table border=\"1\" class=\"dataframe\">\n",
       "  <thead>\n",
       "    <tr style=\"text-align: right;\">\n",
       "      <th></th>\n",
       "      <th>open</th>\n",
       "      <th>close</th>\n",
       "      <th>high</th>\n",
       "      <th>low</th>\n",
       "      <th>volume</th>\n",
       "      <th>money</th>\n",
       "    </tr>\n",
       "  </thead>\n",
       "  <tbody>\n",
       "    <tr>\n",
       "      <th>2015-01-05 09:32:00</th>\n",
       "      <td>3.27</td>\n",
       "      <td>3.27</td>\n",
       "      <td>3.28</td>\n",
       "      <td>3.26</td>\n",
       "      <td>5217441.0</td>\n",
       "      <td>17074392.0</td>\n",
       "    </tr>\n",
       "  </tbody>\n",
       "</table>\n",
       "</div>"
      ],
      "text/plain": [
       "                     open  close  high   low     volume       money\n",
       "2015-01-05 09:32:00  3.27   3.27  3.28  3.26  5217441.0  17074392.0"
      ]
     },
     "execution_count": 100,
     "metadata": {},
     "output_type": "execute_result"
    }
   ],
   "source": [
    "df_data = get_price(tar_stock, end_date='2020-06-01', frequency = '1m')\n",
    "#pd.DataFrame(df_data.index).dtypes\n",
    "print(df_data.index[1])\n",
    "df_data = get_price(tar_stock, end_date=df_data.index[1], frequency = '1m', count=1)\n",
    "df_data"
   ]
  },
  {
   "cell_type": "code",
   "execution_count": 98,
   "metadata": {},
   "outputs": [
    {
     "data": {
      "text/plain": [
       "383.0"
      ]
     },
     "execution_count": 98,
     "metadata": {},
     "output_type": "execute_result"
    }
   ],
   "source": [
    "df_data = attribute_history(tar_stock,10,'1d',('close','low'))\n",
    "df_data['low'][1]*100"
   ]
  },
  {
   "cell_type": "code",
   "execution_count": 99,
   "metadata": {},
   "outputs": [
    {
     "ename": "TypeError",
     "evalue": "'NoneType' object does not support item assignment",
     "output_type": "error",
     "traceback": [
      "\u001b[0;31m---------------------------------------------------------------------------\u001b[0m",
      "\u001b[0;31mTypeError\u001b[0m                                 Traceback (most recent call last)",
      "\u001b[0;32m<ipython-input-99-8d6a1d3b1914>\u001b[0m in \u001b[0;36m<module>\u001b[0;34m\u001b[0m\n\u001b[1;32m      1\u001b[0m \u001b[0morder_info\u001b[0m \u001b[0;34m=\u001b[0m \u001b[0;32mNone\u001b[0m\u001b[0;34m\u001b[0m\u001b[0;34m\u001b[0m\u001b[0m\n\u001b[0;32m----> 2\u001b[0;31m \u001b[0morder_info\u001b[0m\u001b[0;34m[\u001b[0m\u001b[0;34m'000735'\u001b[0m\u001b[0;34m]\u001b[0m \u001b[0;34m=\u001b[0m \u001b[0;36m1\u001b[0m\u001b[0;34m\u001b[0m\u001b[0;34m\u001b[0m\u001b[0m\n\u001b[0m\u001b[1;32m      3\u001b[0m \u001b[0morder_info\u001b[0m\u001b[0;34m\u001b[0m\u001b[0;34m\u001b[0m\u001b[0m\n",
      "\u001b[0;31mTypeError\u001b[0m: 'NoneType' object does not support item assignment"
     ]
    }
   ],
   "source": [
    "order_info = None\n",
    "order_info['000735'] = 1\n",
    "order_info"
   ]
  },
  {
   "cell_type": "code",
   "execution_count": 96,
   "metadata": {},
   "outputs": [],
   "source": [
    "data = {}\n",
    "positions = {}\n",
    "portfolio = {}\n",
    "data['portfolio'] = portfolio\n",
    "portfolio['positions'] = positions\n",
    "context = pd.DataFrame(context)"
   ]
  },
  {
   "cell_type": "code",
   "execution_count": 97,
   "metadata": {},
   "outputs": [
    {
     "data": {
      "text/plain": [
       "1"
      ]
     },
     "execution_count": 97,
     "metadata": {},
     "output_type": "execute_result"
    }
   ],
   "source": [
    "positions['000735'] = 1\n",
    "data.portfolio.positions['000735']"
   ]
  },
  {
   "cell_type": "code",
   "execution_count": 94,
   "metadata": {},
   "outputs": [
    {
     "data": {
      "text/plain": [
       "1"
      ]
     },
     "execution_count": 94,
     "metadata": {},
     "output_type": "execute_result"
    }
   ],
   "source": [
    "positions['000735'] = 1\n",
    "context['portfolio']['positions']['000735']"
   ]
  },
  {
   "cell_type": "code",
   "execution_count": null,
   "metadata": {},
   "outputs": [],
   "source": [
    "context = {}\n",
    "positions = {}\n",
    "portfolio = {}\n",
    "positions['000735'] = 100\n",
    "portfolio['positions'] = positions\n",
    "context['portfolio'] = portfolio"
   ]
  },
  {
   "cell_type": "code",
   "execution_count": 108,
   "metadata": {},
   "outputs": [
    {
     "data": {
      "text/plain": [
       "array(12.5)"
      ]
     },
     "execution_count": 108,
     "metadata": {},
     "output_type": "execute_result"
    }
   ],
   "source": [
    "test = pd.DataFrame(np.arange(10).reshape(2,5))\n",
    "np.cov(test[0])"
   ]
  },
  {
   "cell_type": "code",
   "execution_count": 112,
   "metadata": {},
   "outputs": [
    {
     "data": {
      "text/html": [
       "<div>\n",
       "<style scoped>\n",
       "    .dataframe tbody tr th:only-of-type {\n",
       "        vertical-align: middle;\n",
       "    }\n",
       "\n",
       "    .dataframe tbody tr th {\n",
       "        vertical-align: top;\n",
       "    }\n",
       "\n",
       "    .dataframe thead th {\n",
       "        text-align: right;\n",
       "    }\n",
       "</style>\n",
       "<table border=\"1\" class=\"dataframe\">\n",
       "  <thead>\n",
       "    <tr style=\"text-align: right;\">\n",
       "      <th></th>\n",
       "      <th>one</th>\n",
       "      <th>two</th>\n",
       "      <th>three</th>\n",
       "      <th>four</th>\n",
       "      <th>five</th>\n",
       "    </tr>\n",
       "  </thead>\n",
       "  <tbody>\n",
       "    <tr>\n",
       "      <th>0</th>\n",
       "      <td>0.0</td>\n",
       "      <td>1.0</td>\n",
       "      <td>2.0</td>\n",
       "      <td>3.0</td>\n",
       "      <td>4.0</td>\n",
       "    </tr>\n",
       "    <tr>\n",
       "      <th>1</th>\n",
       "      <td>2.5</td>\n",
       "      <td>3.5</td>\n",
       "      <td>4.5</td>\n",
       "      <td>5.5</td>\n",
       "      <td>6.5</td>\n",
       "    </tr>\n",
       "  </tbody>\n",
       "</table>\n",
       "</div>"
      ],
      "text/plain": [
       "   one  two  three  four  five\n",
       "0  0.0  1.0    2.0   3.0   4.0\n",
       "1  2.5  3.5    4.5   5.5   6.5"
      ]
     },
     "execution_count": 112,
     "metadata": {},
     "output_type": "execute_result"
    }
   ],
   "source": [
    "test_expand = test.expanding(min_periods=1,axis=0).mean()\n",
    "test_expand.columns = ['one','two','three','four','five']\n",
    "test_expand"
   ]
  },
  {
   "cell_type": "code",
   "execution_count": 116,
   "metadata": {},
   "outputs": [
    {
     "ename": "KeyError",
     "evalue": "-1",
     "output_type": "error",
     "traceback": [
      "\u001b[0;31m---------------------------------------------------------------------------\u001b[0m",
      "\u001b[0;31mKeyError\u001b[0m                                  Traceback (most recent call last)",
      "\u001b[0;32m<ipython-input-116-16e39855f18c>\u001b[0m in \u001b[0;36m<module>\u001b[0;34m\u001b[0m\n\u001b[0;32m----> 1\u001b[0;31m \u001b[0mtest_expand\u001b[0m\u001b[0;34m[\u001b[0m\u001b[0;34m'four'\u001b[0m\u001b[0;34m]\u001b[0m\u001b[0;34m[\u001b[0m\u001b[0;34m-\u001b[0m\u001b[0;36m1\u001b[0m\u001b[0;34m]\u001b[0m\u001b[0;34m/\u001b[0m\u001b[0mtest_expand\u001b[0m\u001b[0;34m[\u001b[0m\u001b[0;34m'four'\u001b[0m\u001b[0;34m]\u001b[0m\u001b[0;34m[\u001b[0m\u001b[0;36m0\u001b[0m\u001b[0;34m]\u001b[0m\u001b[0;34m\u001b[0m\u001b[0;34m\u001b[0m\u001b[0m\n\u001b[0m",
      "\u001b[0;32m/opt/conda/lib/python3.6/site-packages/pandas/core/series.py\u001b[0m in \u001b[0;36m__getitem__\u001b[0;34m(self, key)\u001b[0m\n\u001b[1;32m    765\u001b[0m         \u001b[0mkey\u001b[0m \u001b[0;34m=\u001b[0m \u001b[0mcom\u001b[0m\u001b[0;34m.\u001b[0m\u001b[0m_apply_if_callable\u001b[0m\u001b[0;34m(\u001b[0m\u001b[0mkey\u001b[0m\u001b[0;34m,\u001b[0m \u001b[0mself\u001b[0m\u001b[0;34m)\u001b[0m\u001b[0;34m\u001b[0m\u001b[0;34m\u001b[0m\u001b[0m\n\u001b[1;32m    766\u001b[0m         \u001b[0;32mtry\u001b[0m\u001b[0;34m:\u001b[0m\u001b[0;34m\u001b[0m\u001b[0;34m\u001b[0m\u001b[0m\n\u001b[0;32m--> 767\u001b[0;31m             \u001b[0mresult\u001b[0m \u001b[0;34m=\u001b[0m \u001b[0mself\u001b[0m\u001b[0;34m.\u001b[0m\u001b[0mindex\u001b[0m\u001b[0;34m.\u001b[0m\u001b[0mget_value\u001b[0m\u001b[0;34m(\u001b[0m\u001b[0mself\u001b[0m\u001b[0;34m,\u001b[0m \u001b[0mkey\u001b[0m\u001b[0;34m)\u001b[0m\u001b[0;34m\u001b[0m\u001b[0;34m\u001b[0m\u001b[0m\n\u001b[0m\u001b[1;32m    768\u001b[0m \u001b[0;34m\u001b[0m\u001b[0m\n\u001b[1;32m    769\u001b[0m             \u001b[0;32mif\u001b[0m \u001b[0;32mnot\u001b[0m \u001b[0mis_scalar\u001b[0m\u001b[0;34m(\u001b[0m\u001b[0mresult\u001b[0m\u001b[0;34m)\u001b[0m\u001b[0;34m:\u001b[0m\u001b[0;34m\u001b[0m\u001b[0;34m\u001b[0m\u001b[0m\n",
      "\u001b[0;32m/opt/conda/lib/python3.6/site-packages/pandas/core/indexes/base.py\u001b[0m in \u001b[0;36mget_value\u001b[0;34m(self, series, key)\u001b[0m\n\u001b[1;32m   3116\u001b[0m         \u001b[0;32mtry\u001b[0m\u001b[0;34m:\u001b[0m\u001b[0;34m\u001b[0m\u001b[0;34m\u001b[0m\u001b[0m\n\u001b[1;32m   3117\u001b[0m             return self._engine.get_value(s, k,\n\u001b[0;32m-> 3118\u001b[0;31m                                           tz=getattr(series.dtype, 'tz', None))\n\u001b[0m\u001b[1;32m   3119\u001b[0m         \u001b[0;32mexcept\u001b[0m \u001b[0mKeyError\u001b[0m \u001b[0;32mas\u001b[0m \u001b[0me1\u001b[0m\u001b[0;34m:\u001b[0m\u001b[0;34m\u001b[0m\u001b[0;34m\u001b[0m\u001b[0m\n\u001b[1;32m   3120\u001b[0m             \u001b[0;32mif\u001b[0m \u001b[0mlen\u001b[0m\u001b[0;34m(\u001b[0m\u001b[0mself\u001b[0m\u001b[0;34m)\u001b[0m \u001b[0;34m>\u001b[0m \u001b[0;36m0\u001b[0m \u001b[0;32mand\u001b[0m \u001b[0mself\u001b[0m\u001b[0;34m.\u001b[0m\u001b[0minferred_type\u001b[0m \u001b[0;32min\u001b[0m \u001b[0;34m[\u001b[0m\u001b[0;34m'integer'\u001b[0m\u001b[0;34m,\u001b[0m \u001b[0;34m'boolean'\u001b[0m\u001b[0;34m]\u001b[0m\u001b[0;34m:\u001b[0m\u001b[0;34m\u001b[0m\u001b[0;34m\u001b[0m\u001b[0m\n",
      "\u001b[0;32mpandas/_libs/index.pyx\u001b[0m in \u001b[0;36mpandas._libs.index.IndexEngine.get_value\u001b[0;34m()\u001b[0m\n",
      "\u001b[0;32mpandas/_libs/index.pyx\u001b[0m in \u001b[0;36mpandas._libs.index.IndexEngine.get_value\u001b[0;34m()\u001b[0m\n",
      "\u001b[0;32mpandas/_libs/index.pyx\u001b[0m in \u001b[0;36mpandas._libs.index.IndexEngine.get_loc\u001b[0;34m()\u001b[0m\n",
      "\u001b[0;32mpandas/_libs/hashtable_class_helper.pxi\u001b[0m in \u001b[0;36mpandas._libs.hashtable.Int64HashTable.get_item\u001b[0;34m()\u001b[0m\n",
      "\u001b[0;32mpandas/_libs/hashtable_class_helper.pxi\u001b[0m in \u001b[0;36mpandas._libs.hashtable.Int64HashTable.get_item\u001b[0;34m()\u001b[0m\n",
      "\u001b[0;31mKeyError\u001b[0m: -1"
     ]
    }
   ],
   "source": [
    "test_expand['four'][-1]/test_expand['four'][0]"
   ]
  },
  {
   "cell_type": "code",
   "execution_count": 179,
   "metadata": {},
   "outputs": [
    {
     "name": "stdout",
     "output_type": "stream",
     "text": [
      "140369697875952\n",
      "140369697875952\n",
      "140369697875952\n",
      "2015-02-03\n"
     ]
    }
   ],
   "source": [
    "class tes1():\n",
    "    def __init__(self):\n",
    "        self.start_date = '2015-02-03'\n",
    "        print(id(self.start_date))\n",
    "class test():\n",
    "    def __init__(self, start_date):\n",
    "        self.start_date = start_date\n",
    "        self.a = None\n",
    "    def start(self):\n",
    "        a = 10\n",
    "        print(id(self.start_date))\n",
    "        print(self.start_date)\n",
    "tes1 = tes1()\n",
    "print(id(tes1.start_date))\n",
    "test = test(tes1.start_date)\n",
    "test.start()"
   ]
  },
  {
   "cell_type": "code",
   "execution_count": 180,
   "metadata": {},
   "outputs": [
    {
     "name": "stdout",
     "output_type": "stream",
     "text": [
      "140369722342640\n",
      "140369697875952\n",
      "2015-02-03\n"
     ]
    }
   ],
   "source": [
    "tes1.start_date  = '206-0609'\n",
    "print(id(tes1.start_date))\n",
    "test.start()"
   ]
  },
  {
   "cell_type": "code",
   "execution_count": null,
   "metadata": {},
   "outputs": [],
   "source": [
    "stock_df['max_total'] = stock_df['total'].expanding().max()\n",
    "#计算资金曲线在滚动最高值之后所回撤的百分比\n",
    "stock_df['per_total'] = stock_df['total']/stock_df['max_total']\n",
    "min_point_total = stock_df.sort_values(by=['per_total']).iloc[[0], stock_df.columns.get_loc('per_total')]\n",
    "print(min_point_total)\n",
    "max_point_total = stock_df[stock_df.index <= min_point_total.index[0]].sort_values\\         \n",
    "(by=['total'],ascending=False).iloc[[0],stock_df.columns.get_loc('total')]\n",
    "print(\"最大资金回撤%5.2f%%从%s开始至%s结束\"%((1-min_point_total.values),\\\n",
    "max_point_total.index[0],min_point_total.index[0]))"
   ]
  }
 ],
 "metadata": {
  "kernelspec": {
   "display_name": "Python 3",
   "language": "python",
   "name": "python3"
  },
  "language_info": {
   "codemirror_mode": {
    "name": "ipython",
    "version": 3
   },
   "file_extension": ".py",
   "mimetype": "text/x-python",
   "name": "python",
   "nbconvert_exporter": "python",
   "pygments_lexer": "ipython3",
   "version": "3.6.7"
  },
  "toc": {
   "base_numbering": 1,
   "nav_menu": {},
   "number_sections": false,
   "sideBar": true,
   "skip_h1_title": false,
   "title_cell": "MarkDown菜单",
   "title_sidebar": "Contents",
   "toc_cell": false,
   "toc_position": {},
   "toc_section_display": true,
   "toc_window_display": false
  }
 },
 "nbformat": 4,
 "nbformat_minor": 2
}
