{
 "cells": [
  {
   "cell_type": "code",
   "execution_count": 2,
   "metadata": {},
   "outputs": [
    {
     "name": "stdout",
     "output_type": "stream",
     "text": [
      "auth success \n"
     ]
    }
   ],
   "source": [
    "import pandas as pd\n",
    "import matplotlib.pyplot  as plt\n",
    "from jqdatasdk import *\n",
    "import numpy as np\n",
    "import talib as tl #技术指标\n",
    "import datetime as dt\n",
    "auth('15652961415','715905Si')\n",
    "#sns.set_style('darkgrid')\n",
    "plt.rcParams['font.sans-serif']=['SimHei']\n",
    "path_base = 'C:/wangxiaolei/quant/Rong360-master/hongguan/'\n",
    "#-*- coding: utf-8 -*-"
   ]
  },
  {
   "cell_type": "code",
   "execution_count": 3,
   "metadata": {},
   "outputs": [
    {
     "name": "stderr",
     "output_type": "stream",
     "text": [
      "C:\\ProgramData\\Anaconda3\\lib\\site-packages\\ipykernel_launcher.py:25: FutureWarning: how in .resample() is deprecated\n",
      "the new syntax is .resample(...).last()\n"
     ]
    }
   ],
   "source": [
    "def show_index_hs(df_index, label):\n",
    "    df_hs = get_price('000300.XSHG',start_date='2006-01-01',end_date='2018-11-30',fields='close')\n",
    "    fig = plt.figure(figsize=(15,6))\n",
    "    x_index = df_hs.index\n",
    "    ax1 = fig.add_subplot(111)\n",
    "    ax1.plot(df_index,color = 'black', linewidth=2, label=label)\n",
    "    ax1.legend(loc=2,fontsize=12)\n",
    "    ax2=ax1.twinx()#这是双坐标关键一步\n",
    "    ax2.plot(df_hs['close'], color = 'red',linewidth=2,label='沪深300指数')\n",
    "    ax2.legend(loc=1,fontsize=12)\n",
    "    # ax1.grid(False)\n",
    "    ax2.grid(False)\n",
    "    plt.show()\n",
    "def show_benifit(df, label):\n",
    "    x_index = df.index\n",
    "    plt.figure(figsize=(12,6))\n",
    "    plt.plot(x_index, df['benchmark'], color='black', label='benchmark')\n",
    "    plt.plot(x_index, df['net_value'], color='red', label='net_value')\n",
    "    plt.axhline(0,ls='--')\n",
    "    plt.title(label)\n",
    "    plt.xlabel('日期')\n",
    "    plt.ylabel('收益')\n",
    "    plt.legend()\n",
    "df_hs = get_price('000300.XSHG',start_date='2006-01-01',end_date='2018-11-30',fields='close')\n",
    "df_hs_M = df_hs.resample('M',how='last')\n",
    "index = pd.date_range(df_hs.index[0], df_hs.index[-1])\n",
    "rate_riskfree = 0.0 #无风险收益"
   ]
  },
  {
   "cell_type": "code",
   "execution_count": 6,
   "metadata": {},
   "outputs": [
    {
     "name": "stderr",
     "output_type": "stream",
     "text": [
      "C:\\ProgramData\\Anaconda3\\lib\\site-packages\\pandas\\io\\excel.py:329: FutureWarning: The `sheetname` keyword is deprecated, use `sheet_name` instead\n",
      "  **kwds)\n"
     ]
    }
   ],
   "source": [
    "#一、pmi指标\n",
    "#经理购物指标，指标周期3个月，因为pmi指标并非平滑，以一个季度为粒度并进行平均均值\n",
    "#pmi信号：3月均线上涨即认为为买入信号\n",
    "path_pmi = path_base + 'PMI.xls'\n",
    "pmi_df = pd.read_excel(path_pmi,sheetname= [0])[0]\n",
    "pmi_df.set_index('日期', inplace = True)\n",
    "#pmi_df.plot(figsize=(15,6),title='PMI')\n",
    "#获取当前日期过去三个月PMI均值，与上月此时过去三个月PMI均值对比，若是PMI上涨并且本月PMI值大于50则认为本月可以买入指数\n",
    "pmi_df['pmi_3_mean'] = pmi_df['PMI'].rolling(window=3).mean()\n",
    "pmi_df['pmi_3_mean_shift_1'] = pmi_df['pmi_3_mean'].shift(1)\n",
    "#pmi_df['position']=((pmi_3_mean > pmi_3_mean_shift_1) * 1) * ((pmi_3_mean.map(lambda x:True if x > 50 else False)) * 1)\n",
    "pmi_df['signal'] = (pmi_df['pmi_3_mean'] > pmi_df['pmi_3_mean_shift_1']) * 1"
   ]
  },
  {
   "cell_type": "code",
   "execution_count": 7,
   "metadata": {},
   "outputs": [
    {
     "name": "stderr",
     "output_type": "stream",
     "text": [
      "C:\\ProgramData\\Anaconda3\\lib\\site-packages\\pandas\\io\\excel.py:329: FutureWarning: The `sheetname` keyword is deprecated, use `sheet_name` instead\n",
      "  **kwds)\n",
      "C:\\ProgramData\\Anaconda3\\lib\\site-packages\\ipykernel_launcher.py:7: FutureWarning: how in .resample() is deprecated\n",
      "the new syntax is .resample(...).last()\n",
      "  import sys\n"
     ]
    }
   ],
   "source": [
    "#二、利率指标\n",
    "#利率择时,低利率买进，高利率卖出，以布尔轨道为依据\n",
    "path_rate = path_base + 'SHIBOR.xls'\n",
    "df_shibor = pd.read_excel(path_rate,sheetname= [0])[0]\n",
    "df_shibor.set_index('日期', inplace = True)\n",
    "df_hs =  get_price('000300.XSHG',start_date = df_shibor.index[0], end_date = df_shibor.index[-1],fields='close')\n",
    "df_hs_M = df_hs.resample('M',how='last')\n",
    "upperband, middleband, lowerband = (tl.BBANDS(df_shibor[df_shibor.columns[1]].values, timeperiod=12, nbdevup=1.8, nbdevdn=1.8))\n",
    "df_shibor['BBAND_upper'] = upperband\n",
    "df_shibor['BBAND_middle'] = middleband\n",
    "df_shibor['BBAND_lower'] = lowerband\n",
    "signal = 0 #中间状态\n",
    "for date in df_shibor.index:\n",
    "    if df_shibor.loc[date, df_shibor.columns[1]] > df_shibor.loc[date,'BBAND_middle']:\n",
    "        df_shibor.loc[date, 'signal'] = 0\n",
    "    elif df_shibor.loc[date, df_shibor.columns[1]] < df_shibor.loc[date,'BBAND_lower']:\n",
    "        df_shibor.loc[date, 'signal'] = 1\n",
    "    else:\n",
    "        df_shibor.loc[date, 'signal'] = signal\n",
    "    signal = df_shibor.loc[date, 'signal']"
   ]
  },
  {
   "cell_type": "code",
   "execution_count": 8,
   "metadata": {},
   "outputs": [
    {
     "name": "stderr",
     "output_type": "stream",
     "text": [
      "C:\\ProgramData\\Anaconda3\\lib\\site-packages\\ipykernel_launcher.py:9: FutureWarning: how in .resample() is deprecated\n",
      "the new syntax is .resample(...).last()\n",
      "  if __name__ == '__main__':\n"
     ]
    }
   ],
   "source": [
    "#三、国债利差指标\n",
    "#获取国债期限利差数据\n",
    "gz_path = path_base + '/guozhai.xls'\n",
    "df_gz_spread = pd.read_excel(gz_path, sheet_name= [0])[0]\n",
    "df_gz_spread.set_index('日期',inplace=True)\n",
    "df_gz_spread = df_gz_spread.fillna(method='ffill')\n",
    "df_hs =  get_price('000300.XSHG',start_date = df_gz_spread.index[0], end_date = df_gz_spread.index[-1],fields='close').dropna()\n",
    "df_gz_spread = df_gz_spread.reindex(df_hs.index)\n",
    "df_hs_M = df_hs.resample('M',how='last')\n",
    "df_gz_spread['term_spread_10_1'] = df_gz_spread['中债国债到期收益率:10年'] - df_gz_spread['中债国债到期收益率:1个月']\n",
    "upperband, middleband, lowerband = (tl.BBANDS(df_gz_spread['term_spread_10_1'].values, timeperiod=25, nbdevup=1.8, nbdevdn=1.8))\n",
    "df_gz_spread['BBAND_upper'] = upperband\n",
    "df_gz_spread['BBAND_middle'] = middleband\n",
    "df_gz_spread['BBAND_lower']=lowerband\n",
    "signal = 0\n",
    "for date in df_gz_spread.index:\n",
    "    if df_gz_spread.loc[date,'term_spread_10_1'] < df_gz_spread.loc[date,'BBAND_middle']:\n",
    "        df_gz_spread.loc[date,'signal'] = 0\n",
    "    elif df_gz_spread.loc[date,'term_spread_10_1'] > df_gz_spread.loc[date,'BBAND_upper']:\n",
    "        df_gz_spread.loc[date,'signal'] = 1.0\n",
    "    else:\n",
    "        df_gz_spread.loc[date,'signal'] = signal\n",
    "    signal = df_gz_spread.loc[date, 'signal']"
   ]
  },
  {
   "cell_type": "code",
   "execution_count": 10,
   "metadata": {},
   "outputs": [],
   "source": [
    "#四、信用利差\n",
    "#获取企业债和国债利差数据\n",
    "gz_path = path_base + '/guozhai.xls'\n",
    "df_gz = pd.read_excel(gz_path, sheet_name= [0])[0]\n",
    "df_gz.set_index('日期',inplace=True)\n",
    "df_gz = df_gz.fillna(method='ffill')\n",
    "path_qyz = path_base +'qiyezhai.xls'\n",
    "df_qyz = pd.read_excel(path_qyz, sheet_name = [0])[0]\n",
    "df_qyz.set_index('日期',inplace=True)\n",
    "df_qyz = df_qyz.fillna(method='ffill')\n",
    "df_qyz['credit_spread'] = df_qyz['中债企业债到期收益率(AAA):1个月'] - df_gz['中债国债到期收益率:1个月']\n",
    "df_hs =  get_price('000300.XSHG',start_date = df_qyz.index[0], end_date = df_qyz.index[-1],fields='close').dropna()\n",
    "df_qyz = df_qyz.reindex(df_hs.index)\n",
    "upperband, middleband, lowerband = (tl.BBANDS(df_qyz['credit_spread'].values, timeperiod=25, nbdevup=1.8, nbdevdn=1.8))\n",
    "df_qyz['BBAND_upper'] = upperband\n",
    "df_qyz['BBAND_middle'] =  middleband\n",
    "df_qyz['BBAND_lower'] = lowerband\n",
    "signal = 0\n",
    "for date in df_qyz.index:\n",
    "    if df_qyz.loc[date,'credit_spread'] > df_qyz.loc[date,'BBAND_middle']:\n",
    "        df_qyz.loc[date,'signal']=0\n",
    "    elif df_qyz.loc[date,'credit_spread'] < df_qyz.loc[date,'BBAND_lower']:\n",
    "        df_qyz.loc[date,'signal']=1.0\n",
    "    else:\n",
    "        df_qyz.loc[date,'signal']=signal\n",
    "    signal=df_qyz.loc[date,'signal']"
   ]
  },
  {
   "cell_type": "code",
   "execution_count": null,
   "metadata": {},
   "outputs": [],
   "source": []
  }
 ],
 "metadata": {
  "kernelspec": {
   "display_name": "Python 3",
   "language": "python",
   "name": "python3"
  },
  "language_info": {
   "codemirror_mode": {
    "name": "ipython",
    "version": 3
   },
   "file_extension": ".py",
   "mimetype": "text/x-python",
   "name": "python",
   "nbconvert_exporter": "python",
   "pygments_lexer": "ipython3",
   "version": "3.7.0"
  }
 },
 "nbformat": 4,
 "nbformat_minor": 2
}
